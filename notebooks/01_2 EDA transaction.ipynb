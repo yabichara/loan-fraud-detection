{
 "cells": [
  {
   "cell_type": "markdown",
   "id": "a789b7da",
   "metadata": {},
   "source": [
    "# Imports"
   ]
  },
  {
   "cell_type": "code",
   "execution_count": 56,
   "id": "56ade808",
   "metadata": {},
   "outputs": [],
   "source": [
    "import pandas as pd\n",
    "import numpy as np\n",
    "import matplotlib.pyplot as plt\n",
    "import seaborn as sns\n",
    "\n",
    "sns.set(style=\"whitegrid\")\n",
    "%matplotlib inline"
   ]
  },
  {
   "cell_type": "markdown",
   "id": "1f4904f1",
   "metadata": {},
   "source": [
    "# 1. Data Loading - Transactions DB"
   ]
  },
  {
   "cell_type": "markdown",
   "id": "f6cd1c35",
   "metadata": {},
   "source": [
    "We are working with two datasets:\n",
    "- `loan_applications.csv`: Each row is a **loan application**, with features such as loan type, amount, applicant income, and risk indicators.\n",
    "- `transaction.csv`: Each row is a **financial transaction**, associated with customers, with transaction type, amount, and a `fraud_flag`.\n",
    "\n",
    "This structure suggests a 1-to-many relation: one applicant may perform multiple transactions."
   ]
  },
  {
   "cell_type": "code",
   "execution_count": 57,
   "id": "11d10b9d",
   "metadata": {},
   "outputs": [
    {
     "data": {
      "text/html": [
       "<div>\n",
       "<style scoped>\n",
       "    .dataframe tbody tr th:only-of-type {\n",
       "        vertical-align: middle;\n",
       "    }\n",
       "\n",
       "    .dataframe tbody tr th {\n",
       "        vertical-align: top;\n",
       "    }\n",
       "\n",
       "    .dataframe thead th {\n",
       "        text-align: right;\n",
       "    }\n",
       "</style>\n",
       "<table border=\"1\" class=\"dataframe\">\n",
       "  <thead>\n",
       "    <tr style=\"text-align: right;\">\n",
       "      <th></th>\n",
       "      <th>transaction_id</th>\n",
       "      <th>customer_id</th>\n",
       "      <th>transaction_date</th>\n",
       "      <th>transaction_type</th>\n",
       "      <th>transaction_amount</th>\n",
       "      <th>merchant_category</th>\n",
       "      <th>merchant_name</th>\n",
       "      <th>transaction_location</th>\n",
       "      <th>account_balance_after_transaction</th>\n",
       "      <th>is_international_transaction</th>\n",
       "      <th>device_used</th>\n",
       "      <th>ip_address</th>\n",
       "      <th>transaction_status</th>\n",
       "      <th>transaction_source_destination</th>\n",
       "      <th>transaction_notes</th>\n",
       "      <th>fraud_flag</th>\n",
       "    </tr>\n",
       "  </thead>\n",
       "  <tbody>\n",
       "    <tr>\n",
       "      <th>0</th>\n",
       "      <td>2d7ddfd4-1112-4354-a2dd-fad94b45a850</td>\n",
       "      <td>CUST102188</td>\n",
       "      <td>2022-01-04 11:27:00</td>\n",
       "      <td>Bill Payment</td>\n",
       "      <td>2100.0</td>\n",
       "      <td>Dining</td>\n",
       "      <td>Rattan, Khanna and Magar</td>\n",
       "      <td>Srikakulam, Himachal Pradesh</td>\n",
       "      <td>8211.0</td>\n",
       "      <td>0</td>\n",
       "      <td>Web</td>\n",
       "      <td>31.102.21.141</td>\n",
       "      <td>Success</td>\n",
       "      <td>BCHG80012468703731</td>\n",
       "      <td>Payment for Dining</td>\n",
       "      <td>0</td>\n",
       "    </tr>\n",
       "    <tr>\n",
       "      <th>1</th>\n",
       "      <td>ba998721-a612-4e0a-8354-46d001e9c39c</td>\n",
       "      <td>CUST107144</td>\n",
       "      <td>2022-01-03 23:52:00</td>\n",
       "      <td>UPI</td>\n",
       "      <td>1400.0</td>\n",
       "      <td>Travel</td>\n",
       "      <td>Chauhan LLC</td>\n",
       "      <td>Giridih, Manipur</td>\n",
       "      <td>12858.0</td>\n",
       "      <td>0</td>\n",
       "      <td>Web</td>\n",
       "      <td>176.48.222.166</td>\n",
       "      <td>Success</td>\n",
       "      <td>CJPZ11841095072972</td>\n",
       "      <td>Payment for Travel</td>\n",
       "      <td>0</td>\n",
       "    </tr>\n",
       "    <tr>\n",
       "      <th>2</th>\n",
       "      <td>0b4ad8e2-40ac-49c9-b59a-c9efaaccc7a6</td>\n",
       "      <td>CUST102126</td>\n",
       "      <td>2022-01-15 06:54:00</td>\n",
       "      <td>Debit Card</td>\n",
       "      <td>1000.0</td>\n",
       "      <td>Entertainment</td>\n",
       "      <td>Halder-Sarma</td>\n",
       "      <td>Avadi, Kerala</td>\n",
       "      <td>19268.0</td>\n",
       "      <td>0</td>\n",
       "      <td>ATM</td>\n",
       "      <td>181.62.105.161</td>\n",
       "      <td>Success</td>\n",
       "      <td>TLCG50761416960179</td>\n",
       "      <td>Payment for Entertainment</td>\n",
       "      <td>0</td>\n",
       "    </tr>\n",
       "    <tr>\n",
       "      <th>3</th>\n",
       "      <td>c4fce988-34c5-48db-8686-bfad0b3bc0b5</td>\n",
       "      <td>CUST109887</td>\n",
       "      <td>2022-01-08 07:57:00</td>\n",
       "      <td>Credit Card</td>\n",
       "      <td>10500.0</td>\n",
       "      <td>Utilities</td>\n",
       "      <td>Anand, Khare and Balakrishnan</td>\n",
       "      <td>Navi Mumbai, Maharashtra</td>\n",
       "      <td>29585.0</td>\n",
       "      <td>0</td>\n",
       "      <td>ATM</td>\n",
       "      <td>121.157.246.80</td>\n",
       "      <td>Success</td>\n",
       "      <td>PRZJ55096553432036</td>\n",
       "      <td>Payment for Utilities</td>\n",
       "      <td>0</td>\n",
       "    </tr>\n",
       "    <tr>\n",
       "      <th>4</th>\n",
       "      <td>f9b8ca30-00e5-4322-8cff-eac0554cf2da</td>\n",
       "      <td>CUST108620</td>\n",
       "      <td>2022-01-02 10:43:00</td>\n",
       "      <td>Loan Disbursement</td>\n",
       "      <td>8100.0</td>\n",
       "      <td>Electronics</td>\n",
       "      <td>Zacharia and Sons</td>\n",
       "      <td>Visakhapatnam, Gujarat</td>\n",
       "      <td>0.0</td>\n",
       "      <td>0</td>\n",
       "      <td>ATM</td>\n",
       "      <td>129.96.5.57</td>\n",
       "      <td>Success</td>\n",
       "      <td>NBAI29021393288369</td>\n",
       "      <td>Payment for Electronics</td>\n",
       "      <td>0</td>\n",
       "    </tr>\n",
       "  </tbody>\n",
       "</table>\n",
       "</div>"
      ],
      "text/plain": [
       "                         transaction_id customer_id     transaction_date  \\\n",
       "0  2d7ddfd4-1112-4354-a2dd-fad94b45a850  CUST102188  2022-01-04 11:27:00   \n",
       "1  ba998721-a612-4e0a-8354-46d001e9c39c  CUST107144  2022-01-03 23:52:00   \n",
       "2  0b4ad8e2-40ac-49c9-b59a-c9efaaccc7a6  CUST102126  2022-01-15 06:54:00   \n",
       "3  c4fce988-34c5-48db-8686-bfad0b3bc0b5  CUST109887  2022-01-08 07:57:00   \n",
       "4  f9b8ca30-00e5-4322-8cff-eac0554cf2da  CUST108620  2022-01-02 10:43:00   \n",
       "\n",
       "    transaction_type  transaction_amount merchant_category  \\\n",
       "0       Bill Payment              2100.0            Dining   \n",
       "1                UPI              1400.0            Travel   \n",
       "2         Debit Card              1000.0     Entertainment   \n",
       "3        Credit Card             10500.0         Utilities   \n",
       "4  Loan Disbursement              8100.0       Electronics   \n",
       "\n",
       "                   merchant_name          transaction_location  \\\n",
       "0       Rattan, Khanna and Magar  Srikakulam, Himachal Pradesh   \n",
       "1                    Chauhan LLC              Giridih, Manipur   \n",
       "2                   Halder-Sarma                 Avadi, Kerala   \n",
       "3  Anand, Khare and Balakrishnan      Navi Mumbai, Maharashtra   \n",
       "4              Zacharia and Sons        Visakhapatnam, Gujarat   \n",
       "\n",
       "   account_balance_after_transaction  is_international_transaction  \\\n",
       "0                             8211.0                             0   \n",
       "1                            12858.0                             0   \n",
       "2                            19268.0                             0   \n",
       "3                            29585.0                             0   \n",
       "4                                0.0                             0   \n",
       "\n",
       "  device_used      ip_address transaction_status  \\\n",
       "0         Web   31.102.21.141            Success   \n",
       "1         Web  176.48.222.166            Success   \n",
       "2         ATM  181.62.105.161            Success   \n",
       "3         ATM  121.157.246.80            Success   \n",
       "4         ATM     129.96.5.57            Success   \n",
       "\n",
       "  transaction_source_destination          transaction_notes  fraud_flag  \n",
       "0             BCHG80012468703731         Payment for Dining           0  \n",
       "1             CJPZ11841095072972         Payment for Travel           0  \n",
       "2             TLCG50761416960179  Payment for Entertainment           0  \n",
       "3             PRZJ55096553432036      Payment for Utilities           0  \n",
       "4             NBAI29021393288369    Payment for Electronics           0  "
      ]
     },
     "execution_count": 57,
     "metadata": {},
     "output_type": "execute_result"
    }
   ],
   "source": [
    "df_transaction = pd.read_csv(\"../Data/transactions.csv\")\n",
    "df_transaction.head()"
   ]
  },
  {
   "cell_type": "markdown",
   "id": "788f8b3b",
   "metadata": {},
   "source": [
    "# 2. Data Exploration - Transactions DB"
   ]
  },
  {
   "cell_type": "code",
   "execution_count": 58,
   "id": "b0bac1f3",
   "metadata": {},
   "outputs": [
    {
     "name": "stdout",
     "output_type": "stream",
     "text": [
      "<class 'pandas.core.frame.DataFrame'>\n",
      "RangeIndex: 50000 entries, 0 to 49999\n",
      "Data columns (total 16 columns):\n",
      " #   Column                             Non-Null Count  Dtype  \n",
      "---  ------                             --------------  -----  \n",
      " 0   transaction_id                     50000 non-null  object \n",
      " 1   customer_id                        50000 non-null  object \n",
      " 2   transaction_date                   50000 non-null  object \n",
      " 3   transaction_type                   50000 non-null  object \n",
      " 4   transaction_amount                 50000 non-null  float64\n",
      " 5   merchant_category                  50000 non-null  object \n",
      " 6   merchant_name                      50000 non-null  object \n",
      " 7   transaction_location               50000 non-null  object \n",
      " 8   account_balance_after_transaction  50000 non-null  float64\n",
      " 9   is_international_transaction       50000 non-null  int64  \n",
      " 10  device_used                        50000 non-null  object \n",
      " 11  ip_address                         50000 non-null  object \n",
      " 12  transaction_status                 50000 non-null  object \n",
      " 13  transaction_source_destination     50000 non-null  object \n",
      " 14  transaction_notes                  50000 non-null  object \n",
      " 15  fraud_flag                         50000 non-null  int64  \n",
      "dtypes: float64(2), int64(2), object(12)\n",
      "memory usage: 6.1+ MB\n"
     ]
    }
   ],
   "source": [
    "# Display an overview about transactions dataset\n",
    "df_transaction.info()"
   ]
  },
  {
   "cell_type": "code",
   "execution_count": 59,
   "id": "6015ec18",
   "metadata": {},
   "outputs": [],
   "source": [
    "# List of numerical and categorical features\n",
    "\n",
    "transaction_num_fea = ['transaction_amount','account_balance_after_transaction']\n",
    "transaction_cat_fea = [ 'transaction_type', 'merchant_category','device_used','transaction_status',\n",
    "                       'transaction_notes','is_international_transaction']"
   ]
  },
  {
   "cell_type": "code",
   "execution_count": 60,
   "id": "2f844089",
   "metadata": {},
   "outputs": [
    {
     "name": "stdout",
     "output_type": "stream",
     "text": [
      "Column: transaction_type\n",
      "Debit Card           5088\n",
      "Loan Disbursement    5056\n",
      "ATM Withdrawal       5042\n",
      "EMI Payment          5031\n",
      "Fund Transfer        5025\n",
      "Credit Card          5007\n",
      "Bill Payment         4975\n",
      "Deposit              4966\n",
      "UPI                  4919\n",
      "Net Banking          4891\n",
      "Name: transaction_type, dtype: int64\n",
      "\n",
      "----------------------------------------\n",
      "\n",
      "Column: merchant_category\n",
      "Utilities             4256\n",
      "Healthcare            4236\n",
      "Financial Services    4199\n",
      "Cash Withdrawal       4198\n",
      "Education             4190\n",
      "Dining                4167\n",
      "Travel                4165\n",
      "Entertainment         4136\n",
      "Online Shopping       4132\n",
      "Fuel                  4119\n",
      "Groceries             4111\n",
      "Electronics           4091\n",
      "Name: merchant_category, dtype: int64\n",
      "\n",
      "----------------------------------------\n",
      "\n",
      "Column: device_used\n",
      "ATM       12695\n",
      "Mobile    12555\n",
      "Web       12538\n",
      "POS       12212\n",
      "Name: device_used, dtype: int64\n",
      "\n",
      "----------------------------------------\n",
      "\n",
      "Column: transaction_status\n",
      "Success    49745\n",
      "Failed       255\n",
      "Name: transaction_status, dtype: int64\n",
      "\n",
      "----------------------------------------\n",
      "\n",
      "Column: transaction_notes\n",
      "Payment for Utilities             4256\n",
      "Payment for Healthcare            4236\n",
      "Payment for Financial Services    4199\n",
      "Payment for Cash Withdrawal       4198\n",
      "Payment for Education             4190\n",
      "Payment for Dining                4167\n",
      "Payment for Travel                4165\n",
      "Payment for Entertainment         4136\n",
      "Payment for Online Shopping       4132\n",
      "Payment for Fuel                  4119\n",
      "Payment for Groceries             4111\n",
      "Payment for Electronics           4091\n",
      "Name: transaction_notes, dtype: int64\n",
      "\n",
      "----------------------------------------\n",
      "\n",
      "Column: is_international_transaction\n",
      "0    49478\n",
      "1      522\n",
      "Name: is_international_transaction, dtype: int64\n",
      "\n",
      "----------------------------------------\n",
      "\n"
     ]
    }
   ],
   "source": [
    "# Distinct value counts for each non-numerical column in the dataset.\n",
    "\n",
    "for col in transaction_cat_fea:\n",
    "    print(f\"Column: {col}\")\n",
    "    print(df_transaction[col].value_counts(dropna=False))  # includes NaN counts if any\n",
    "    print(\"\\n\" + \"-\"*40 + \"\\n\")"
   ]
  },
  {
   "cell_type": "code",
   "execution_count": 61,
   "id": "b4234a7f",
   "metadata": {},
   "outputs": [
    {
     "data": {
      "image/png": "[encoded data removed]",
      "text/plain": [
       "<Figure size 1080x720 with 2 Axes>"
      ]
     },
     "metadata": {
      "needs_background": "light"
     },
     "output_type": "display_data"
    }
   ],
   "source": [
    "# Histograms for numerical features\n",
    "df_transaction[transaction_num_fea].hist(bins=20, figsize=(15,10))\n",
    "plt.suptitle(\"Histograms of Numerical Features\")\n",
    "plt.show()"
   ]
  },
  {
   "cell_type": "code",
   "execution_count": 62,
   "id": "f031ee0d",
   "metadata": {
    "scrolled": false
   },
   "outputs": [
    {
     "data": {
      "image/png": "[encoded data removed]",
      "text/plain": [
       "<Figure size 864x576 with 2 Axes>"
      ]
     },
     "metadata": {
      "needs_background": "light"
     },
     "output_type": "display_data"
    }
   ],
   "source": [
    "# Correlation matrix\n",
    "\n",
    "corr = df_transaction.select_dtypes(include='number').corr()\n",
    "plt.figure(figsize=(12,8))\n",
    "sns.heatmap(corr, annot=True, cmap='coolwarm')\n",
    "plt.title(\"Correlation Matrix\")\n",
    "plt.show()"
   ]
  },
  {
   "cell_type": "code",
   "execution_count": 63,
   "id": "103cd8fe",
   "metadata": {},
   "outputs": [
    {
     "name": "stdout",
     "output_type": "stream",
     "text": [
      "0    99.0%\n",
      "1     1.0%\n",
      "Name: fraud_flag, dtype: object\n"
     ]
    }
   ],
   "source": [
    "# Fraud rate\n",
    "fraud_rate = df_transaction['fraud_flag'].value_counts(normalize=True) * 100\n",
    "print(fraud_rate.round(2).astype(str) + '%')"
   ]
  },
  {
   "cell_type": "code",
   "execution_count": 64,
   "id": "0319afe8",
   "metadata": {},
   "outputs": [
    {
     "data": {
      "image/png": "[encoded data removed]",
      "text/plain": [
       "<Figure size 576x288 with 1 Axes>"
      ]
     },
     "metadata": {
      "needs_background": "light"
     },
     "output_type": "display_data"
    }
   ],
   "source": [
    "# Calculate percentage per transaction type\n",
    "fraud_type_pct = (\n",
    "    df_transaction['transaction_type'].value_counts(normalize=True) * 100\n",
    ").sort_values(ascending=False)\n",
    "\n",
    "# Plot\n",
    "plt.figure(figsize=(8, 4))\n",
    "sns.barplot(x=fraud_type_pct.values, y=fraud_type_pct.index)\n",
    "plt.xlabel(\"Percentage\")\n",
    "plt.title(\"Types of transaction (by Percentage)\")\n",
    "plt.xlim(0, fraud_type_pct.max() + 5)  # Add space to the right\n",
    "plt.tight_layout()\n",
    "plt.show()"
   ]
  },
  {
   "cell_type": "code",
   "execution_count": 65,
   "id": "85144ac4",
   "metadata": {},
   "outputs": [
    {
     "data": {
      "image/png": "[encoded data removed]",
      "text/plain": [
       "<Figure size 576x288 with 1 Axes>"
      ]
     },
     "metadata": {
      "needs_background": "light"
     },
     "output_type": "display_data"
    }
   ],
   "source": [
    "# Calculate percentage per merchant category\n",
    "fraud_type_pct = (\n",
    "    df_transaction['merchant_category'].value_counts(normalize=True) * 100\n",
    ").sort_values(ascending=False)\n",
    "\n",
    "# Plot\n",
    "plt.figure(figsize=(8, 4))\n",
    "sns.barplot(x=fraud_type_pct.values, y=fraud_type_pct.index)\n",
    "plt.xlabel(\"Percentage\")\n",
    "plt.title(\"Types of transaction (by Percentage)\")\n",
    "plt.xlim(0, fraud_type_pct.max() + 5)  # Add space to the right\n",
    "plt.tight_layout()\n",
    "plt.show()"
   ]
  },
  {
   "cell_type": "code",
   "execution_count": 66,
   "id": "b083fdeb",
   "metadata": {},
   "outputs": [],
   "source": [
    "# Your target\n",
    "target = 'fraud_flag'\n",
    "\n",
    "# Select categorical features (excluding target)\n",
    "transaction_cat_cols = transaction_cat_fea\n",
    "if target in transaction_cat_cols :\n",
    "    transaction_cat_cols.remove(target)\n",
    "\n",
    "# Select numerical features (excluding target)\n",
    "transaction_num_cols = transaction_num_fea\n",
    "if target in transaction_num_cols : \n",
    "    transaction_num_cols.remove(target)"
   ]
  },
  {
   "cell_type": "code",
   "execution_count": 67,
   "id": "a09adf0e",
   "metadata": {},
   "outputs": [],
   "source": [
    "dfs = []  # To store results for all columns\n",
    "\n",
    "for col in transaction_cat_cols:\n",
    "    # Create a crosstab: counts of each category by fraud_flag\n",
    "    ct = pd.crosstab(df_transaction[col], df_transaction[target], dropna=False)\n",
    "    \n",
    "    # Rename target columns\n",
    "    ct = ct.rename(columns={0: 'not_fraud', 1: 'fraud'})\n",
    "    \n",
    "    # Optional: add totals\n",
    "    ct['Total'] = ct.sum(axis=1)\n",
    "    \n",
    "    # Calculate percentages per row\n",
    "    ct_pct = ct.div(ct['Total'], axis=0) * 100\n",
    "    ct_pct = ct_pct.round(2)\n",
    "    \n",
    "    # Combine counts and percentages in one DataFrame\n",
    "    combined = ct.astype(str) + \" (\" + ct_pct.astype(str) + \"%)\"\n",
    "    \n",
    "    # Add a column name to identify which feature this is from\n",
    "    combined.insert(0, col, combined.index)    \n",
    "    combined.columns.name = None\n",
    "    \n",
    "    dfs.append(combined.reset_index(drop=True))"
   ]
  },
  {
   "cell_type": "code",
   "execution_count": 68,
   "id": "60767ca9",
   "metadata": {},
   "outputs": [
    {
     "data": {
      "text/html": [
       "<div>\n",
       "<style scoped>\n",
       "    .dataframe tbody tr th:only-of-type {\n",
       "        vertical-align: middle;\n",
       "    }\n",
       "\n",
       "    .dataframe tbody tr th {\n",
       "        vertical-align: top;\n",
       "    }\n",
       "\n",
       "    .dataframe thead th {\n",
       "        text-align: right;\n",
       "    }\n",
       "</style>\n",
       "<table border=\"1\" class=\"dataframe\">\n",
       "  <thead>\n",
       "    <tr style=\"text-align: right;\">\n",
       "      <th></th>\n",
       "      <th>transaction_type</th>\n",
       "      <th>not_fraud</th>\n",
       "      <th>fraud</th>\n",
       "      <th>Total</th>\n",
       "    </tr>\n",
       "  </thead>\n",
       "  <tbody>\n",
       "    <tr>\n",
       "      <th>0</th>\n",
       "      <td>ATM Withdrawal</td>\n",
       "      <td>4994 (99.05%)</td>\n",
       "      <td>48 (0.95%)</td>\n",
       "      <td>5042 (100.0%)</td>\n",
       "    </tr>\n",
       "    <tr>\n",
       "      <th>1</th>\n",
       "      <td>Bill Payment</td>\n",
       "      <td>4929 (99.08%)</td>\n",
       "      <td>46 (0.92%)</td>\n",
       "      <td>4975 (100.0%)</td>\n",
       "    </tr>\n",
       "    <tr>\n",
       "      <th>2</th>\n",
       "      <td>Credit Card</td>\n",
       "      <td>4959 (99.04%)</td>\n",
       "      <td>48 (0.96%)</td>\n",
       "      <td>5007 (100.0%)</td>\n",
       "    </tr>\n",
       "    <tr>\n",
       "      <th>3</th>\n",
       "      <td>Debit Card</td>\n",
       "      <td>5043 (99.12%)</td>\n",
       "      <td>45 (0.88%)</td>\n",
       "      <td>5088 (100.0%)</td>\n",
       "    </tr>\n",
       "    <tr>\n",
       "      <th>4</th>\n",
       "      <td>Deposit</td>\n",
       "      <td>4917 (99.01%)</td>\n",
       "      <td>49 (0.99%)</td>\n",
       "      <td>4966 (100.0%)</td>\n",
       "    </tr>\n",
       "    <tr>\n",
       "      <th>5</th>\n",
       "      <td>EMI Payment</td>\n",
       "      <td>4975 (98.89%)</td>\n",
       "      <td>56 (1.11%)</td>\n",
       "      <td>5031 (100.0%)</td>\n",
       "    </tr>\n",
       "    <tr>\n",
       "      <th>6</th>\n",
       "      <td>Fund Transfer</td>\n",
       "      <td>4976 (99.02%)</td>\n",
       "      <td>49 (0.98%)</td>\n",
       "      <td>5025 (100.0%)</td>\n",
       "    </tr>\n",
       "    <tr>\n",
       "      <th>7</th>\n",
       "      <td>Loan Disbursement</td>\n",
       "      <td>5005 (98.99%)</td>\n",
       "      <td>51 (1.01%)</td>\n",
       "      <td>5056 (100.0%)</td>\n",
       "    </tr>\n",
       "    <tr>\n",
       "      <th>8</th>\n",
       "      <td>Net Banking</td>\n",
       "      <td>4841 (98.98%)</td>\n",
       "      <td>50 (1.02%)</td>\n",
       "      <td>4891 (100.0%)</td>\n",
       "    </tr>\n",
       "    <tr>\n",
       "      <th>9</th>\n",
       "      <td>UPI</td>\n",
       "      <td>4859 (98.78%)</td>\n",
       "      <td>60 (1.22%)</td>\n",
       "      <td>4919 (100.0%)</td>\n",
       "    </tr>\n",
       "  </tbody>\n",
       "</table>\n",
       "</div>"
      ],
      "text/plain": [
       "    transaction_type      not_fraud       fraud          Total\n",
       "0     ATM Withdrawal  4994 (99.05%)  48 (0.95%)  5042 (100.0%)\n",
       "1       Bill Payment  4929 (99.08%)  46 (0.92%)  4975 (100.0%)\n",
       "2        Credit Card  4959 (99.04%)  48 (0.96%)  5007 (100.0%)\n",
       "3         Debit Card  5043 (99.12%)  45 (0.88%)  5088 (100.0%)\n",
       "4            Deposit  4917 (99.01%)  49 (0.99%)  4966 (100.0%)\n",
       "5        EMI Payment  4975 (98.89%)  56 (1.11%)  5031 (100.0%)\n",
       "6      Fund Transfer  4976 (99.02%)  49 (0.98%)  5025 (100.0%)\n",
       "7  Loan Disbursement  5005 (98.99%)  51 (1.01%)  5056 (100.0%)\n",
       "8        Net Banking  4841 (98.98%)  50 (1.02%)  4891 (100.0%)\n",
       "9                UPI  4859 (98.78%)  60 (1.22%)  4919 (100.0%)"
      ]
     },
     "execution_count": 68,
     "metadata": {},
     "output_type": "execute_result"
    }
   ],
   "source": [
    "df_tsct_tsct_type = dfs[0]\n",
    "df_tsct_tsct_type"
   ]
  },
  {
   "cell_type": "code",
   "execution_count": 69,
   "id": "c262ab42",
   "metadata": {},
   "outputs": [
    {
     "data": {
      "text/html": [
       "<div>\n",
       "<style scoped>\n",
       "    .dataframe tbody tr th:only-of-type {\n",
       "        vertical-align: middle;\n",
       "    }\n",
       "\n",
       "    .dataframe tbody tr th {\n",
       "        vertical-align: top;\n",
       "    }\n",
       "\n",
       "    .dataframe thead th {\n",
       "        text-align: right;\n",
       "    }\n",
       "</style>\n",
       "<table border=\"1\" class=\"dataframe\">\n",
       "  <thead>\n",
       "    <tr style=\"text-align: right;\">\n",
       "      <th></th>\n",
       "      <th>merchant_category</th>\n",
       "      <th>not_fraud</th>\n",
       "      <th>fraud</th>\n",
       "      <th>Total</th>\n",
       "    </tr>\n",
       "  </thead>\n",
       "  <tbody>\n",
       "    <tr>\n",
       "      <th>0</th>\n",
       "      <td>Cash Withdrawal</td>\n",
       "      <td>4151 (98.88%)</td>\n",
       "      <td>47 (1.12%)</td>\n",
       "      <td>4198 (100.0%)</td>\n",
       "    </tr>\n",
       "    <tr>\n",
       "      <th>1</th>\n",
       "      <td>Dining</td>\n",
       "      <td>4107 (98.56%)</td>\n",
       "      <td>60 (1.44%)</td>\n",
       "      <td>4167 (100.0%)</td>\n",
       "    </tr>\n",
       "    <tr>\n",
       "      <th>2</th>\n",
       "      <td>Education</td>\n",
       "      <td>4149 (99.02%)</td>\n",
       "      <td>41 (0.98%)</td>\n",
       "      <td>4190 (100.0%)</td>\n",
       "    </tr>\n",
       "    <tr>\n",
       "      <th>3</th>\n",
       "      <td>Electronics</td>\n",
       "      <td>4055 (99.12%)</td>\n",
       "      <td>36 (0.88%)</td>\n",
       "      <td>4091 (100.0%)</td>\n",
       "    </tr>\n",
       "    <tr>\n",
       "      <th>4</th>\n",
       "      <td>Entertainment</td>\n",
       "      <td>4097 (99.06%)</td>\n",
       "      <td>39 (0.94%)</td>\n",
       "      <td>4136 (100.0%)</td>\n",
       "    </tr>\n",
       "    <tr>\n",
       "      <th>5</th>\n",
       "      <td>Financial Services</td>\n",
       "      <td>4163 (99.14%)</td>\n",
       "      <td>36 (0.86%)</td>\n",
       "      <td>4199 (100.0%)</td>\n",
       "    </tr>\n",
       "    <tr>\n",
       "      <th>6</th>\n",
       "      <td>Fuel</td>\n",
       "      <td>4074 (98.91%)</td>\n",
       "      <td>45 (1.09%)</td>\n",
       "      <td>4119 (100.0%)</td>\n",
       "    </tr>\n",
       "    <tr>\n",
       "      <th>7</th>\n",
       "      <td>Groceries</td>\n",
       "      <td>4080 (99.25%)</td>\n",
       "      <td>31 (0.75%)</td>\n",
       "      <td>4111 (100.0%)</td>\n",
       "    </tr>\n",
       "    <tr>\n",
       "      <th>8</th>\n",
       "      <td>Healthcare</td>\n",
       "      <td>4194 (99.01%)</td>\n",
       "      <td>42 (0.99%)</td>\n",
       "      <td>4236 (100.0%)</td>\n",
       "    </tr>\n",
       "    <tr>\n",
       "      <th>9</th>\n",
       "      <td>Online Shopping</td>\n",
       "      <td>4082 (98.79%)</td>\n",
       "      <td>50 (1.21%)</td>\n",
       "      <td>4132 (100.0%)</td>\n",
       "    </tr>\n",
       "    <tr>\n",
       "      <th>10</th>\n",
       "      <td>Travel</td>\n",
       "      <td>4121 (98.94%)</td>\n",
       "      <td>44 (1.06%)</td>\n",
       "      <td>4165 (100.0%)</td>\n",
       "    </tr>\n",
       "    <tr>\n",
       "      <th>11</th>\n",
       "      <td>Utilities</td>\n",
       "      <td>4225 (99.27%)</td>\n",
       "      <td>31 (0.73%)</td>\n",
       "      <td>4256 (100.0%)</td>\n",
       "    </tr>\n",
       "  </tbody>\n",
       "</table>\n",
       "</div>"
      ],
      "text/plain": [
       "     merchant_category      not_fraud       fraud          Total\n",
       "0      Cash Withdrawal  4151 (98.88%)  47 (1.12%)  4198 (100.0%)\n",
       "1               Dining  4107 (98.56%)  60 (1.44%)  4167 (100.0%)\n",
       "2            Education  4149 (99.02%)  41 (0.98%)  4190 (100.0%)\n",
       "3          Electronics  4055 (99.12%)  36 (0.88%)  4091 (100.0%)\n",
       "4        Entertainment  4097 (99.06%)  39 (0.94%)  4136 (100.0%)\n",
       "5   Financial Services  4163 (99.14%)  36 (0.86%)  4199 (100.0%)\n",
       "6                 Fuel  4074 (98.91%)  45 (1.09%)  4119 (100.0%)\n",
       "7            Groceries  4080 (99.25%)  31 (0.75%)  4111 (100.0%)\n",
       "8           Healthcare  4194 (99.01%)  42 (0.99%)  4236 (100.0%)\n",
       "9      Online Shopping  4082 (98.79%)  50 (1.21%)  4132 (100.0%)\n",
       "10              Travel  4121 (98.94%)  44 (1.06%)  4165 (100.0%)\n",
       "11           Utilities  4225 (99.27%)  31 (0.73%)  4256 (100.0%)"
      ]
     },
     "execution_count": 69,
     "metadata": {},
     "output_type": "execute_result"
    }
   ],
   "source": [
    "df_tsct_merchant_type = dfs[1]\n",
    "df_tsct_merchant_type"
   ]
  },
  {
   "cell_type": "code",
   "execution_count": 70,
   "id": "0214f008",
   "metadata": {},
   "outputs": [
    {
     "data": {
      "text/html": [
       "<div>\n",
       "<style scoped>\n",
       "    .dataframe tbody tr th:only-of-type {\n",
       "        vertical-align: middle;\n",
       "    }\n",
       "\n",
       "    .dataframe tbody tr th {\n",
       "        vertical-align: top;\n",
       "    }\n",
       "\n",
       "    .dataframe thead th {\n",
       "        text-align: right;\n",
       "    }\n",
       "</style>\n",
       "<table border=\"1\" class=\"dataframe\">\n",
       "  <thead>\n",
       "    <tr style=\"text-align: right;\">\n",
       "      <th></th>\n",
       "      <th>device_used</th>\n",
       "      <th>not_fraud</th>\n",
       "      <th>fraud</th>\n",
       "      <th>Total</th>\n",
       "    </tr>\n",
       "  </thead>\n",
       "  <tbody>\n",
       "    <tr>\n",
       "      <th>0</th>\n",
       "      <td>ATM</td>\n",
       "      <td>12572 (99.03%)</td>\n",
       "      <td>123 (0.97%)</td>\n",
       "      <td>12695 (100.0%)</td>\n",
       "    </tr>\n",
       "    <tr>\n",
       "      <th>1</th>\n",
       "      <td>Mobile</td>\n",
       "      <td>12429 (99.0%)</td>\n",
       "      <td>126 (1.0%)</td>\n",
       "      <td>12555 (100.0%)</td>\n",
       "    </tr>\n",
       "    <tr>\n",
       "      <th>2</th>\n",
       "      <td>POS</td>\n",
       "      <td>12083 (98.94%)</td>\n",
       "      <td>129 (1.06%)</td>\n",
       "      <td>12212 (100.0%)</td>\n",
       "    </tr>\n",
       "    <tr>\n",
       "      <th>3</th>\n",
       "      <td>Web</td>\n",
       "      <td>12414 (99.01%)</td>\n",
       "      <td>124 (0.99%)</td>\n",
       "      <td>12538 (100.0%)</td>\n",
       "    </tr>\n",
       "  </tbody>\n",
       "</table>\n",
       "</div>"
      ],
      "text/plain": [
       "  device_used       not_fraud        fraud           Total\n",
       "0         ATM  12572 (99.03%)  123 (0.97%)  12695 (100.0%)\n",
       "1      Mobile   12429 (99.0%)   126 (1.0%)  12555 (100.0%)\n",
       "2         POS  12083 (98.94%)  129 (1.06%)  12212 (100.0%)\n",
       "3         Web  12414 (99.01%)  124 (0.99%)  12538 (100.0%)"
      ]
     },
     "execution_count": 70,
     "metadata": {},
     "output_type": "execute_result"
    }
   ],
   "source": [
    "df_tsct_device = dfs[2]\n",
    "df_tsct_device"
   ]
  },
  {
   "cell_type": "code",
   "execution_count": 71,
   "id": "0788e24e",
   "metadata": {},
   "outputs": [
    {
     "data": {
      "text/html": [
       "<div>\n",
       "<style scoped>\n",
       "    .dataframe tbody tr th:only-of-type {\n",
       "        vertical-align: middle;\n",
       "    }\n",
       "\n",
       "    .dataframe tbody tr th {\n",
       "        vertical-align: top;\n",
       "    }\n",
       "\n",
       "    .dataframe thead th {\n",
       "        text-align: right;\n",
       "    }\n",
       "</style>\n",
       "<table border=\"1\" class=\"dataframe\">\n",
       "  <thead>\n",
       "    <tr style=\"text-align: right;\">\n",
       "      <th></th>\n",
       "      <th>transaction_status</th>\n",
       "      <th>not_fraud</th>\n",
       "      <th>fraud</th>\n",
       "      <th>Total</th>\n",
       "    </tr>\n",
       "  </thead>\n",
       "  <tbody>\n",
       "    <tr>\n",
       "      <th>0</th>\n",
       "      <td>Failed</td>\n",
       "      <td>0 (0.0%)</td>\n",
       "      <td>255 (100.0%)</td>\n",
       "      <td>255 (100.0%)</td>\n",
       "    </tr>\n",
       "    <tr>\n",
       "      <th>1</th>\n",
       "      <td>Success</td>\n",
       "      <td>49498 (99.5%)</td>\n",
       "      <td>247 (0.5%)</td>\n",
       "      <td>49745 (100.0%)</td>\n",
       "    </tr>\n",
       "  </tbody>\n",
       "</table>\n",
       "</div>"
      ],
      "text/plain": [
       "  transaction_status      not_fraud         fraud           Total\n",
       "0             Failed       0 (0.0%)  255 (100.0%)    255 (100.0%)\n",
       "1            Success  49498 (99.5%)    247 (0.5%)  49745 (100.0%)"
      ]
     },
     "execution_count": 71,
     "metadata": {},
     "output_type": "execute_result"
    }
   ],
   "source": [
    "df_tsct_tsct_status = dfs[3]\n",
    "df_tsct_tsct_status"
   ]
  },
  {
   "cell_type": "code",
   "execution_count": 72,
   "id": "f8bd8722",
   "metadata": {},
   "outputs": [
    {
     "data": {
      "text/html": [
       "<div>\n",
       "<style scoped>\n",
       "    .dataframe tbody tr th:only-of-type {\n",
       "        vertical-align: middle;\n",
       "    }\n",
       "\n",
       "    .dataframe tbody tr th {\n",
       "        vertical-align: top;\n",
       "    }\n",
       "\n",
       "    .dataframe thead th {\n",
       "        text-align: right;\n",
       "    }\n",
       "</style>\n",
       "<table border=\"1\" class=\"dataframe\">\n",
       "  <thead>\n",
       "    <tr style=\"text-align: right;\">\n",
       "      <th></th>\n",
       "      <th>transaction_notes</th>\n",
       "      <th>not_fraud</th>\n",
       "      <th>fraud</th>\n",
       "      <th>Total</th>\n",
       "    </tr>\n",
       "  </thead>\n",
       "  <tbody>\n",
       "    <tr>\n",
       "      <th>0</th>\n",
       "      <td>Payment for Cash Withdrawal</td>\n",
       "      <td>4151 (98.88%)</td>\n",
       "      <td>47 (1.12%)</td>\n",
       "      <td>4198 (100.0%)</td>\n",
       "    </tr>\n",
       "    <tr>\n",
       "      <th>1</th>\n",
       "      <td>Payment for Dining</td>\n",
       "      <td>4107 (98.56%)</td>\n",
       "      <td>60 (1.44%)</td>\n",
       "      <td>4167 (100.0%)</td>\n",
       "    </tr>\n",
       "    <tr>\n",
       "      <th>2</th>\n",
       "      <td>Payment for Education</td>\n",
       "      <td>4149 (99.02%)</td>\n",
       "      <td>41 (0.98%)</td>\n",
       "      <td>4190 (100.0%)</td>\n",
       "    </tr>\n",
       "    <tr>\n",
       "      <th>3</th>\n",
       "      <td>Payment for Electronics</td>\n",
       "      <td>4055 (99.12%)</td>\n",
       "      <td>36 (0.88%)</td>\n",
       "      <td>4091 (100.0%)</td>\n",
       "    </tr>\n",
       "    <tr>\n",
       "      <th>4</th>\n",
       "      <td>Payment for Entertainment</td>\n",
       "      <td>4097 (99.06%)</td>\n",
       "      <td>39 (0.94%)</td>\n",
       "      <td>4136 (100.0%)</td>\n",
       "    </tr>\n",
       "    <tr>\n",
       "      <th>5</th>\n",
       "      <td>Payment for Financial Services</td>\n",
       "      <td>4163 (99.14%)</td>\n",
       "      <td>36 (0.86%)</td>\n",
       "      <td>4199 (100.0%)</td>\n",
       "    </tr>\n",
       "    <tr>\n",
       "      <th>6</th>\n",
       "      <td>Payment for Fuel</td>\n",
       "      <td>4074 (98.91%)</td>\n",
       "      <td>45 (1.09%)</td>\n",
       "      <td>4119 (100.0%)</td>\n",
       "    </tr>\n",
       "    <tr>\n",
       "      <th>7</th>\n",
       "      <td>Payment for Groceries</td>\n",
       "      <td>4080 (99.25%)</td>\n",
       "      <td>31 (0.75%)</td>\n",
       "      <td>4111 (100.0%)</td>\n",
       "    </tr>\n",
       "    <tr>\n",
       "      <th>8</th>\n",
       "      <td>Payment for Healthcare</td>\n",
       "      <td>4194 (99.01%)</td>\n",
       "      <td>42 (0.99%)</td>\n",
       "      <td>4236 (100.0%)</td>\n",
       "    </tr>\n",
       "    <tr>\n",
       "      <th>9</th>\n",
       "      <td>Payment for Online Shopping</td>\n",
       "      <td>4082 (98.79%)</td>\n",
       "      <td>50 (1.21%)</td>\n",
       "      <td>4132 (100.0%)</td>\n",
       "    </tr>\n",
       "    <tr>\n",
       "      <th>10</th>\n",
       "      <td>Payment for Travel</td>\n",
       "      <td>4121 (98.94%)</td>\n",
       "      <td>44 (1.06%)</td>\n",
       "      <td>4165 (100.0%)</td>\n",
       "    </tr>\n",
       "    <tr>\n",
       "      <th>11</th>\n",
       "      <td>Payment for Utilities</td>\n",
       "      <td>4225 (99.27%)</td>\n",
       "      <td>31 (0.73%)</td>\n",
       "      <td>4256 (100.0%)</td>\n",
       "    </tr>\n",
       "  </tbody>\n",
       "</table>\n",
       "</div>"
      ],
      "text/plain": [
       "                 transaction_notes      not_fraud       fraud          Total\n",
       "0      Payment for Cash Withdrawal  4151 (98.88%)  47 (1.12%)  4198 (100.0%)\n",
       "1               Payment for Dining  4107 (98.56%)  60 (1.44%)  4167 (100.0%)\n",
       "2            Payment for Education  4149 (99.02%)  41 (0.98%)  4190 (100.0%)\n",
       "3          Payment for Electronics  4055 (99.12%)  36 (0.88%)  4091 (100.0%)\n",
       "4        Payment for Entertainment  4097 (99.06%)  39 (0.94%)  4136 (100.0%)\n",
       "5   Payment for Financial Services  4163 (99.14%)  36 (0.86%)  4199 (100.0%)\n",
       "6                 Payment for Fuel  4074 (98.91%)  45 (1.09%)  4119 (100.0%)\n",
       "7            Payment for Groceries  4080 (99.25%)  31 (0.75%)  4111 (100.0%)\n",
       "8           Payment for Healthcare  4194 (99.01%)  42 (0.99%)  4236 (100.0%)\n",
       "9      Payment for Online Shopping  4082 (98.79%)  50 (1.21%)  4132 (100.0%)\n",
       "10              Payment for Travel  4121 (98.94%)  44 (1.06%)  4165 (100.0%)\n",
       "11           Payment for Utilities  4225 (99.27%)  31 (0.73%)  4256 (100.0%)"
      ]
     },
     "execution_count": 72,
     "metadata": {},
     "output_type": "execute_result"
    }
   ],
   "source": [
    "df_tsct_tsct_notes = dfs[4]\n",
    "df_tsct_tsct_notes"
   ]
  },
  {
   "cell_type": "code",
   "execution_count": 73,
   "id": "ec678266",
   "metadata": {},
   "outputs": [
    {
     "data": {
      "text/html": [
       "<div>\n",
       "<style scoped>\n",
       "    .dataframe tbody tr th:only-of-type {\n",
       "        vertical-align: middle;\n",
       "    }\n",
       "\n",
       "    .dataframe tbody tr th {\n",
       "        vertical-align: top;\n",
       "    }\n",
       "\n",
       "    .dataframe thead th {\n",
       "        text-align: right;\n",
       "    }\n",
       "</style>\n",
       "<table border=\"1\" class=\"dataframe\">\n",
       "  <thead>\n",
       "    <tr style=\"text-align: right;\">\n",
       "      <th></th>\n",
       "      <th>is_international_transaction</th>\n",
       "      <th>not_fraud</th>\n",
       "      <th>fraud</th>\n",
       "      <th>Total</th>\n",
       "    </tr>\n",
       "  </thead>\n",
       "  <tbody>\n",
       "    <tr>\n",
       "      <th>0</th>\n",
       "      <td>0</td>\n",
       "      <td>48980 (98.99%)</td>\n",
       "      <td>498 (1.01%)</td>\n",
       "      <td>49478 (100.0%)</td>\n",
       "    </tr>\n",
       "    <tr>\n",
       "      <th>1</th>\n",
       "      <td>1</td>\n",
       "      <td>518 (99.23%)</td>\n",
       "      <td>4 (0.77%)</td>\n",
       "      <td>522 (100.0%)</td>\n",
       "    </tr>\n",
       "  </tbody>\n",
       "</table>\n",
       "</div>"
      ],
      "text/plain": [
       "   is_international_transaction       not_fraud        fraud           Total\n",
       "0                             0  48980 (98.99%)  498 (1.01%)  49478 (100.0%)\n",
       "1                             1    518 (99.23%)    4 (0.77%)    522 (100.0%)"
      ]
     },
     "execution_count": 73,
     "metadata": {},
     "output_type": "execute_result"
    }
   ],
   "source": [
    "df_tsct_inter = dfs[5]\n",
    "df_tsct_inter"
   ]
  },
  {
   "cell_type": "code",
   "execution_count": 74,
   "id": "db1cf7ae",
   "metadata": {},
   "outputs": [],
   "source": [
    "del dfs"
   ]
  },
  {
   "cell_type": "code",
   "execution_count": 75,
   "id": "c24fb77a",
   "metadata": {},
   "outputs": [
    {
     "data": {
      "image/png": "[encoded data removed]",
      "text/plain": [
       "<Figure size 432x288 with 1 Axes>"
      ]
     },
     "metadata": {
      "needs_background": "light"
     },
     "output_type": "display_data"
    },
    {
     "data": {
      "image/png": "[encoded data removed]",
      "text/plain": [
       "<Figure size 432x288 with 1 Axes>"
      ]
     },
     "metadata": {
      "needs_background": "light"
     },
     "output_type": "display_data"
    }
   ],
   "source": [
    "# Plot numerical features vs fraud_flag (boxplots)\n",
    "for col in transaction_num_cols:\n",
    "    plt.figure(figsize=(6,4))\n",
    "    sns.boxplot(data=df_transaction, x=target, y=col)\n",
    "    plt.title(f\"{col} distribution by {target}\")\n",
    "    plt.tight_layout()\n",
    "    plt.show()"
   ]
  },
  {
   "cell_type": "code",
   "execution_count": 76,
   "id": "bf5abe5b",
   "metadata": {},
   "outputs": [],
   "source": [
    "import os\n",
    "\n",
    "# Folder path\n",
    "folder_path = '../Data/Transaction_stats'\n",
    "# Create folder if it doesn't exist\n",
    "os.makedirs(folder_path, exist_ok=True)"
   ]
  },
  {
   "cell_type": "code",
   "execution_count": 77,
   "id": "9a90037d",
   "metadata": {},
   "outputs": [],
   "source": [
    "# File path using the variable name\n",
    "file_path = os.path.join(folder_path, 'tsct_tsct_type.csv')\n",
    "\n",
    "# Save DataFrame to CSV without index\n",
    "df_tsct_tsct_type.to_csv(file_path, index=False)"
   ]
  },
  {
   "cell_type": "code",
   "execution_count": 78,
   "id": "ac5b7bc6",
   "metadata": {},
   "outputs": [],
   "source": [
    "# File path using the variable name\n",
    "file_path = os.path.join(folder_path, 'tsct_merchant_type.csv')\n",
    "\n",
    "# Save DataFrame to CSV without index\n",
    "df_tsct_merchant_type.to_csv(file_path, index=False)"
   ]
  },
  {
   "cell_type": "code",
   "execution_count": 79,
   "id": "10c3577f",
   "metadata": {},
   "outputs": [],
   "source": [
    "# File path using the variable name\n",
    "file_path = os.path.join(folder_path, 'tsct_device.csv')\n",
    "\n",
    "# Save DataFrame to CSV without index\n",
    "df_tsct_device.to_csv(file_path, index=False)"
   ]
  },
  {
   "cell_type": "code",
   "execution_count": 80,
   "id": "e7241059",
   "metadata": {},
   "outputs": [],
   "source": [
    "# File path using the variable name\n",
    "file_path = os.path.join(folder_path, 'tsct_tsct_status.csv')\n",
    "\n",
    "# Save DataFrame to CSV without index\n",
    "df_tsct_tsct_status.to_csv(file_path, index=False)"
   ]
  },
  {
   "cell_type": "code",
   "execution_count": 81,
   "id": "0f4fa414",
   "metadata": {},
   "outputs": [],
   "source": [
    "# File path using the variable name\n",
    "file_path = os.path.join(folder_path, 'tsct_tsct_notes.csv')\n",
    "\n",
    "# Save DataFrame to CSV without index\n",
    "df_tsct_tsct_notes.to_csv(file_path, index=False)"
   ]
  },
  {
   "cell_type": "code",
   "execution_count": 82,
   "id": "1536db96",
   "metadata": {},
   "outputs": [],
   "source": [
    "# File path using the variable name\n",
    "file_path = os.path.join(folder_path, 'tsct_inter.csv')\n",
    "\n",
    "# Save DataFrame to CSV without index\n",
    "df_tsct_inter.to_csv(file_path, index=False)"
   ]
  }
 ],
 "metadata": {
  "kernelspec": {
   "display_name": "Python 3 (ipykernel)",
   "language": "python",
   "name": "python3"
  },
  "language_info": {
   "codemirror_mode": {
    "name": "ipython",
    "version": 3
   },
   "file_extension": ".py",
   "mimetype": "text/x-python",
   "name": "python",
   "nbconvert_exporter": "python",
   "pygments_lexer": "ipython3",
   "version": "3.9.7"
  }
 },
 "nbformat": 4,
 "nbformat_minor": 5
}
