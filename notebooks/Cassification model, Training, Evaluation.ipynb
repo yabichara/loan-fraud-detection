{
 "cells": [
  {
   "cell_type": "code",
   "execution_count": 1,
   "id": "f6ab0b2e",
   "metadata": {},
   "outputs": [
    {
     "name": "stdout",
     "output_type": "stream",
     "text": [
      "pandas already installed and up to date (version 1.3.4).\n",
      "numpy already installed and up to date (version 1.20.3).\n",
      "matplotlib already installed and up to date (version 3.4.3).\n",
      "seaborn already installed and up to date (version 0.11.2).\n",
      "scikit-learn already installed and up to date (version 1.6.1).\n",
      "lightgbm already installed and up to date (version 4.6.0).\n",
      "imblearn already installed and up to date (version 0.0).\n"
     ]
    }
   ],
   "source": [
    "import sys\n",
    "import subprocess\n",
    "import pkg_resources\n",
    "\n",
    "def install_requirements(file='../requirements.txt'):\n",
    "    try:\n",
    "        with open(file) as f:\n",
    "            packages = [line.strip() for line in f if line.strip() and not line.startswith('#')]\n",
    "    except FileNotFoundError:\n",
    "        print(f\"{file} not found.\")\n",
    "        return\n",
    "\n",
    "    for package in packages:\n",
    "        # Extract package name without version specifier for import\n",
    "        pkg_name = package.split('==')[0].split('>=')[0].split('<=')[0]\n",
    "\n",
    "        try:\n",
    "            # Check if the package is installed\n",
    "            dist = pkg_resources.get_distribution(pkg_name)\n",
    "            installed_version = dist.version\n",
    "\n",
    "            # Check if the installed version satisfies the requirement\n",
    "            requirement = pkg_resources.Requirement.parse(package)\n",
    "            if installed_version not in requirement:\n",
    "                print(f\"Upgrading {package} (installed version: {installed_version})...\")\n",
    "                subprocess.check_call([sys.executable, \"-m\", \"pip\", \"install\", \"--upgrade\", package])\n",
    "            else:\n",
    "                print(f\"{package} already installed and up to date (version {installed_version}).\")\n",
    "\n",
    "        except pkg_resources.DistributionNotFound:\n",
    "            print(f\"Installing {package}...\")\n",
    "            subprocess.check_call([sys.executable, \"-m\", \"pip\", \"install\", package])\n",
    "\n",
    "install_requirements()\n"
   ]
  },
  {
   "cell_type": "code",
   "execution_count": 2,
   "id": "31031661",
   "metadata": {},
   "outputs": [],
   "source": [
    "import warnings\n",
    "warnings.simplefilter('ignore')\n",
    "\n",
    "import pandas as pd\n",
    "import numpy as np\n",
    "\n",
    "import matplotlib.pyplot as plt\n",
    "from datetime import timedelta\n",
    "\n",
    "from sklearn.compose import ColumnTransformer\n",
    "from sklearn.preprocessing import StandardScaler, OneHotEncoder\n",
    "from sklearn.model_selection import train_test_split\n",
    "from imblearn.over_sampling import SMOTE\n",
    "from sklearn.linear_model import LogisticRegression\n",
    "from sklearn.ensemble import RandomForestClassifier\n",
    "from lightgbm import LGBMClassifier\n",
    "from sklearn.metrics import roc_auc_score, classification_report, confusion_matrix"
   ]
  },
  {
   "cell_type": "markdown",
   "id": "c9da49f1",
   "metadata": {},
   "source": [
    "# Processed Data Load"
   ]
  },
  {
   "cell_type": "code",
   "execution_count": 3,
   "id": "b108660e",
   "metadata": {},
   "outputs": [],
   "source": [
    "df = pd.read_csv(\"../Data/Processed/loan_transactions_features.csv\")"
   ]
  },
  {
   "cell_type": "markdown",
   "id": "c19ee471",
   "metadata": {},
   "source": [
    "# Data preprocessing for model"
   ]
  },
  {
   "cell_type": "markdown",
   "id": "5c37efab",
   "metadata": {},
   "source": [
    "# Data Split "
   ]
  },
  {
   "cell_type": "code",
   "execution_count": null,
   "id": "0911c8a5",
   "metadata": {},
   "outputs": [],
   "source": [
    "# 1. Define target variables\n",
    "y_fraud = loan_applications_df['fraud_flag']\n",
    "y_loan_status = loan_applications_df['loan_status']"
   ]
  },
  {
   "cell_type": "code",
   "execution_count": null,
   "id": "2518ae3f",
   "metadata": {},
   "outputs": [],
   "source": [
    "# 2. Define the feature set X by dropping irrelevant columns\n",
    "X = loan_applications_df.drop(columns=['fraud_flag', 'loan_status', 'fraud_type', 'application_id', 'customer_id', 'application_date'])"
   ]
  },
  {
   "cell_type": "code",
   "execution_count": null,
   "id": "b8d120a3",
   "metadata": {},
   "outputs": [],
   "source": [
    "# 3. Identify numerical and categorical features\n",
    "numerical_features = X.select_dtypes(include=['int64', 'float64']).columns.tolist()\n",
    "categorical_features = X.select_dtypes(include=['object', 'category']).columns.tolist()\n",
    "\n",
    "print(f\"Numerical features: {numerical_features}\")\n",
    "print(f\"Categorical features: {categorical_features}\")"
   ]
  },
  {
   "cell_type": "code",
   "execution_count": null,
   "id": "6c527539",
   "metadata": {},
   "outputs": [],
   "source": [
    "# 4. Create a ColumnTransformer\n",
    "preprocessor = ColumnTransformer(\n",
    "    transformers=[\n",
    "        ('num', StandardScaler(), numerical_features),\n",
    "        ('cat', OneHotEncoder(handle_unknown='ignore'), categorical_features)\n",
    "    ],\n",
    "    remainder='passthrough' # Keep other columns that are not transformed\n",
    ")"
   ]
  },
  {
   "cell_type": "code",
   "execution_count": null,
   "id": "d371f32b",
   "metadata": {},
   "outputs": [],
   "source": [
    "# 5. Fit and transform the feature set X\n",
    "X_processed = preprocessor.fit_transform(X)\n",
    "\n",
    "print(\"\\nShape of original features X:\", X.shape)\n",
    "print(\"Shape of processed features X_processed:\", X_processed.shape)"
   ]
  }
 ],
 "metadata": {
  "kernelspec": {
   "display_name": "Python 3 (ipykernel)",
   "language": "python",
   "name": "python3"
  },
  "language_info": {
   "codemirror_mode": {
    "name": "ipython",
    "version": 3
   },
   "file_extension": ".py",
   "mimetype": "text/x-python",
   "name": "python",
   "nbconvert_exporter": "python",
   "pygments_lexer": "ipython3",
   "version": "3.9.7"
  }
 },
 "nbformat": 4,
 "nbformat_minor": 5
}
