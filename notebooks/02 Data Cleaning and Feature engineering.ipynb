{
 "cells": [
  {
   "cell_type": "code",
   "execution_count": 100,
   "id": "31f20b25",
   "metadata": {},
   "outputs": [],
   "source": [
    "import warnings\n",
    "warnings.simplefilter('ignore')\n",
    "\n",
    "import pandas as pd\n",
    "import numpy as np\n",
    "\n",
    "import matplotlib.pyplot as plt\n",
    "from datetime import timedelta"
   ]
  },
  {
   "cell_type": "markdown",
   "id": "4f733f66",
   "metadata": {},
   "source": [
    "# 1- Data Cleaning"
   ]
  },
  {
   "cell_type": "code",
   "execution_count": 101,
   "id": "5324a30c",
   "metadata": {},
   "outputs": [],
   "source": [
    "df_loan = pd.read_csv(\"../Data/Raw/loan_applications.csv\")\n",
    "df_transaction = pd.read_csv(\"../Data/Raw/transactions.csv\")"
   ]
  },
  {
   "cell_type": "code",
   "execution_count": 102,
   "id": "abc70493",
   "metadata": {},
   "outputs": [
    {
     "name": "stdout",
     "output_type": "stream",
     "text": [
      "Loan Applications DataFrame Info:\n",
      "<class 'pandas.core.frame.DataFrame'>\n",
      "RangeIndex: 50000 entries, 0 to 49999\n",
      "Data columns (total 21 columns):\n",
      " #   Column                     Non-Null Count  Dtype  \n",
      "---  ------                     --------------  -----  \n",
      " 0   application_id             50000 non-null  object \n",
      " 1   customer_id                50000 non-null  object \n",
      " 2   application_date           50000 non-null  object \n",
      " 3   loan_type                  50000 non-null  object \n",
      " 4   loan_amount_requested      50000 non-null  float64\n",
      " 5   loan_tenure_months         50000 non-null  int64  \n",
      " 6   interest_rate_offered      50000 non-null  float64\n",
      " 7   purpose_of_loan            50000 non-null  object \n",
      " 8   employment_status          50000 non-null  object \n",
      " 9   monthly_income             50000 non-null  float64\n",
      " 10  cibil_score                50000 non-null  int64  \n",
      " 11  existing_emis_monthly      50000 non-null  float64\n",
      " 12  debt_to_income_ratio       50000 non-null  float64\n",
      " 13  property_ownership_status  50000 non-null  object \n",
      " 14  residential_address        50000 non-null  object \n",
      " 15  applicant_age              50000 non-null  int64  \n",
      " 16  gender                     50000 non-null  object \n",
      " 17  number_of_dependents       50000 non-null  int64  \n",
      " 18  loan_status                50000 non-null  object \n",
      " 19  fraud_flag                 50000 non-null  int64  \n",
      " 20  fraud_type                 1026 non-null   object \n",
      "dtypes: float64(5), int64(5), object(11)\n",
      "memory usage: 8.0+ MB\n",
      "\n",
      "----------------------------------------------------------------------\n",
      "\n",
      "\n",
      "Transactions DataFrame Info:\n",
      "<class 'pandas.core.frame.DataFrame'>\n",
      "RangeIndex: 50000 entries, 0 to 49999\n",
      "Data columns (total 16 columns):\n",
      " #   Column                             Non-Null Count  Dtype  \n",
      "---  ------                             --------------  -----  \n",
      " 0   transaction_id                     50000 non-null  object \n",
      " 1   customer_id                        50000 non-null  object \n",
      " 2   transaction_date                   50000 non-null  object \n",
      " 3   transaction_type                   50000 non-null  object \n",
      " 4   transaction_amount                 50000 non-null  float64\n",
      " 5   merchant_category                  50000 non-null  object \n",
      " 6   merchant_name                      50000 non-null  object \n",
      " 7   transaction_location               50000 non-null  object \n",
      " 8   account_balance_after_transaction  50000 non-null  float64\n",
      " 9   is_international_transaction       50000 non-null  int64  \n",
      " 10  device_used                        50000 non-null  object \n",
      " 11  ip_address                         50000 non-null  object \n",
      " 12  transaction_status                 50000 non-null  object \n",
      " 13  transaction_source_destination     50000 non-null  object \n",
      " 14  transaction_notes                  50000 non-null  object \n",
      " 15  fraud_flag                         50000 non-null  int64  \n",
      "dtypes: float64(2), int64(2), object(12)\n",
      "memory usage: 6.1+ MB\n"
     ]
    }
   ],
   "source": [
    "print(\"Loan Applications DataFrame Info:\")\n",
    "df_loan.info()\n",
    "print(\"\\n\" + \"-\"*70 + \"\\n\")\n",
    "print(\"\\nTransactions DataFrame Info:\")\n",
    "df_transaction.info()"
   ]
  },
  {
   "cell_type": "code",
   "execution_count": 103,
   "id": "363477f3",
   "metadata": {},
   "outputs": [
    {
     "name": "stdout",
     "output_type": "stream",
     "text": [
      "\n",
      "Loan Applications DataFrame Unique Value Counts:\n",
      "application_id               50000\n",
      "customer_id                  18314\n",
      "application_date              1096\n",
      "loan_type                        5\n",
      "loan_amount_requested         1312\n",
      "loan_tenure_months               7\n",
      "interest_rate_offered          983\n",
      "purpose_of_loan                  7\n",
      "employment_status                6\n",
      "monthly_income                1101\n",
      "cibil_score                    354\n",
      "existing_emis_monthly          108\n",
      "debt_to_income_ratio          3288\n",
      "property_ownership_status        3\n",
      "residential_address          18314\n",
      "applicant_age                   45\n",
      "gender                           3\n",
      "number_of_dependents             5\n",
      "loan_status                      4\n",
      "fraud_flag                       2\n",
      "fraud_type                       4\n",
      "dtype: int64\n",
      "\n",
      "----------------------------------------------------------------------\n",
      "\n",
      "\n",
      "Transactions DataFrame Unique Value Counts:\n",
      "transaction_id                       50000\n",
      "customer_id                          18318\n",
      "transaction_date                     30012\n",
      "transaction_type                        10\n",
      "transaction_amount                     639\n",
      "merchant_category                       12\n",
      "merchant_name                        35312\n",
      "transaction_location                  8823\n",
      "account_balance_after_transaction    30267\n",
      "is_international_transaction             2\n",
      "device_used                              4\n",
      "ip_address                           50000\n",
      "transaction_status                       2\n",
      "transaction_source_destination       39993\n",
      "transaction_notes                       12\n",
      "fraud_flag                               2\n",
      "dtype: int64\n"
     ]
    }
   ],
   "source": [
    "print(\"\\nLoan Applications DataFrame Unique Value Counts:\")\n",
    "print(df_loan.nunique())\n",
    "print(\"\\n\" + \"-\"*70 + \"\\n\")\n",
    "print(\"\\nTransactions DataFrame Unique Value Counts:\")\n",
    "print(df_transaction.nunique())"
   ]
  },
  {
   "cell_type": "code",
   "execution_count": 104,
   "id": "861857a9",
   "metadata": {},
   "outputs": [],
   "source": [
    "# Convert date columns to datetime\n",
    "df_loan['application_date'] = pd.to_datetime(df_loan['application_date'])\n",
    "df_transaction['transaction_date'] = pd.to_datetime(df_transaction['transaction_date'])"
   ]
  },
  {
   "cell_type": "code",
   "execution_count": 105,
   "id": "4b5662df",
   "metadata": {},
   "outputs": [
    {
     "name": "stdout",
     "output_type": "stream",
     "text": [
      "\n",
      "Value counts for 'fraud_type' after handling missing values:\n",
      "Not Fraudulent              48974\n",
      "Synthetic Identity            276\n",
      "Income Misrepresentation      270\n",
      "Loan Stacking                 242\n",
      "Transaction Laundering        238\n",
      "Name: fraud_type, dtype: int64\n"
     ]
    }
   ],
   "source": [
    "df_loan['fraud_type'].fillna('Not Fraudulent', inplace=True)\n",
    "\n",
    "# value counts for fraud_type\n",
    "print(\"\\nValue counts for 'fraud_type' after handling missing values:\")\n",
    "print(df_loan['fraud_type'].value_counts())"
   ]
  },
  {
   "cell_type": "markdown",
   "id": "a3a59295",
   "metadata": {},
   "source": [
    "# 2- Outiler treatment"
   ]
  },
  {
   "cell_type": "code",
   "execution_count": 106,
   "id": "009e9246",
   "metadata": {},
   "outputs": [
    {
     "name": "stdout",
     "output_type": "stream",
     "text": [
      "Numerical columns: ['loan_amount_requested', 'loan_tenure_months', 'interest_rate_offered', 'monthly_income', 'cibil_score', 'existing_emis_monthly', 'debt_to_income_ratio', 'applicant_age', 'number_of_dependents', 'fraud_flag']\n"
     ]
    }
   ],
   "source": [
    "# Identify numerical columns\n",
    "numerical_cols = df_loan.select_dtypes(include=np.number).columns.tolist()\n",
    "print(f\"Numerical columns: {numerical_cols}\")"
   ]
  },
  {
   "cell_type": "code",
   "execution_count": 107,
   "id": "23b32825",
   "metadata": {},
   "outputs": [
    {
     "name": "stdout",
     "output_type": "stream",
     "text": [
      "Capping outliers at 1st and 99th percentiles...\n"
     ]
    }
   ],
   "source": [
    "# Cap outliers using 1st and 99th percentiles\n",
    "print(\"Capping outliers at 1st and 99th percentiles...\")\n",
    "for col in numerical_cols:\n",
    "    lower_bound = df_loan[col].quantile(0.01)\n",
    "    upper_bound = df_loan[col].quantile(0.99)\n",
    "    df_loan[col] = df_loan[col].clip(lower=lower_bound, upper=upper_bound)"
   ]
  },
  {
   "cell_type": "markdown",
   "id": "c46c1ec7",
   "metadata": {},
   "source": [
    "# 3- Feature Engineering"
   ]
  },
  {
   "cell_type": "code",
   "execution_count": 108,
   "id": "4d56f52c",
   "metadata": {},
   "outputs": [],
   "source": [
    "# 1. time-based features from application_date\n",
    "df_loan['application_year'] = df_loan['application_date'].dt.year\n",
    "df_loan['application_month'] = df_loan['application_date'].dt.month\n",
    "df_loan['application_day_of_week'] = df_loan['application_date'].dt.dayofweek # Monday=0, Sunday=6"
   ]
  },
  {
   "cell_type": "code",
   "execution_count": 109,
   "id": "7aa46333",
   "metadata": {},
   "outputs": [],
   "source": [
    "# 2. existing EMI to monthly income ratio  \n",
    "epsilon = 1e-6\n",
    "df_loan['existing_emi_to_income_ratio'] = (df_loan['existing_emis_monthly'] / (df_loan['monthly_income'] + epsilon)) * 100\n",
    "\n",
    "# 3. loan amount to monthly income ratio\n",
    "df_loan['loan_amount_to_income_ratio'] = (df_loan['loan_amount_requested'] / (df_loan['monthly_income'] + epsilon)) * 100"
   ]
  },
  {
   "cell_type": "code",
   "execution_count": 110,
   "id": "dc1969fb",
   "metadata": {},
   "outputs": [],
   "source": [
    "# 4. Feature: customer-level aggregates \n",
    "df_agg_transaction = df_transaction.groupby('customer_id').agg(\n",
    "    transaction_count=('transaction_amount', 'count'),\n",
    "    total_transaction_amount=('transaction_amount', 'sum'),\n",
    "    avg_transaction_amount=('transaction_amount', 'mean'),\n",
    "    max_transaction_amount=('transaction_amount', 'max'),\n",
    "    fraud_count=('fraud_flag', 'sum'),\n",
    "    fraud_rate=('fraud_flag', lambda x: x.mean() * 100),\n",
    "    international_txn_rate=('is_international_transaction', lambda x: x.mean() * 100),\n",
    "    unique_devices_used=('device_used', 'nunique')\n",
    ").reset_index()"
   ]
  },
  {
   "cell_type": "code",
   "execution_count": 111,
   "id": "52eb328b",
   "metadata": {},
   "outputs": [],
   "source": [
    "# Merge aggregated features into loan dataset\n",
    "df_agg = pd.merge(df_loan, df_agg_transaction, on='customer_id', how='left')"
   ]
  },
  {
   "cell_type": "code",
   "execution_count": 112,
   "id": "137d2522",
   "metadata": {},
   "outputs": [
    {
     "name": "stdout",
     "output_type": "stream",
     "text": [
      "Wall time: 1.4 s\n"
     ]
    }
   ],
   "source": [
    "%%time\n",
    "# Features by costumers : aggregate transaction data before application date\n",
    "\n",
    "# Merge transactions with loans on customer_id\n",
    "df_txn_loan = pd.merge(\n",
    "    df_transaction,\n",
    "    df_loan[['application_id', 'customer_id', 'application_date']],\n",
    "    on='customer_id',\n",
    "    how='inner'\n",
    ")\n",
    "\n",
    "# Keep only transactions BEFORE application date\n",
    "df_txn_loan = df_txn_loan[df_txn_loan['transaction_date'] < df_txn_loan['application_date']]\n",
    "\n",
    "# Group by application_id and compute aggregates\n",
    "df_txn_agg = df_txn_loan.groupby('application_id').agg(\n",
    "    transaction_count_pre=('transaction_amount', 'count'),\n",
    "    total_amount_pre=('transaction_amount', 'sum'),\n",
    "    avg_amount_pre=('transaction_amount', 'mean'),\n",
    "    fraud_count_pre=('fraud_flag', 'sum'),\n",
    "    fraud_rate_pre=('fraud_flag', lambda x: x.mean() * 100)\n",
    ").reset_index()\n",
    "\n",
    "# Merge back to df_agg\n",
    "df_agg = pd.merge(df_agg, df_txn_agg, on='application_id', how='left')\n"
   ]
  },
  {
   "cell_type": "code",
   "execution_count": 113,
   "id": "67cbe97a",
   "metadata": {},
   "outputs": [
    {
     "data": {
      "text/plain": [
       "Index(['application_id', 'customer_id', 'application_date', 'loan_type',\n",
       "       'loan_amount_requested', 'loan_tenure_months', 'interest_rate_offered',\n",
       "       'purpose_of_loan', 'employment_status', 'monthly_income', 'cibil_score',\n",
       "       'existing_emis_monthly', 'debt_to_income_ratio',\n",
       "       'property_ownership_status', 'residential_address', 'applicant_age',\n",
       "       'gender', 'number_of_dependents', 'loan_status', 'fraud_flag',\n",
       "       'fraud_type', 'application_year', 'application_month',\n",
       "       'application_day_of_week', 'existing_emi_to_income_ratio',\n",
       "       'loan_amount_to_income_ratio', 'transaction_count',\n",
       "       'total_transaction_amount', 'avg_transaction_amount',\n",
       "       'max_transaction_amount', 'fraud_count', 'fraud_rate',\n",
       "       'international_txn_rate', 'unique_devices_used',\n",
       "       'transaction_count_pre', 'total_amount_pre', 'avg_amount_pre',\n",
       "       'fraud_count_pre', 'fraud_rate_pre'],\n",
       "      dtype='object')"
      ]
     },
     "execution_count": 113,
     "metadata": {},
     "output_type": "execute_result"
    }
   ],
   "source": [
    "df_agg.columns"
   ]
  },
  {
   "cell_type": "code",
   "execution_count": 114,
   "id": "bfc2820d",
   "metadata": {},
   "outputs": [],
   "source": [
    "ordered_columns = [\n",
    "    # 1. Identifiers & Dates\n",
    "    'application_id', 'customer_id', 'application_date',\n",
    "    'application_year', 'application_month', 'application_day_of_week',\n",
    "\n",
    "    # 2. Applicant Info\n",
    "    'applicant_age', 'gender', 'number_of_dependents',\n",
    "    'residential_address', 'property_ownership_status',\n",
    "    'employment_status', 'monthly_income', 'cibil_score',\n",
    "\n",
    "    # 3. Loan Details\n",
    "    'loan_type', 'loan_amount_requested', 'loan_tenure_months',\n",
    "    'interest_rate_offered', 'purpose_of_loan',\n",
    "    'loan_amount_to_income_ratio', 'existing_emis_monthly',\n",
    "    'existing_emi_to_income_ratio', 'debt_to_income_ratio',\n",
    "\n",
    "    # 4. All-Time Transaction Aggregates\n",
    "    'transaction_count', 'total_transaction_amount',\n",
    "    'avg_transaction_amount', 'max_transaction_amount', 'fraud_count',\n",
    "    'fraud_rate', 'international_txn_rate', 'unique_devices_used',\n",
    "\n",
    "    # 5. Pre-Application Transaction Aggregates\n",
    "    'transaction_count_pre', 'total_amount_pre',\n",
    "    'avg_amount_pre','fraud_count_pre', 'fraud_rate_pre',\n",
    "\n",
    "    # 6. Target Variables\n",
    "    'loan_status', 'fraud_flag', 'fraud_type'\n",
    "]\n",
    "\n",
    "# Reorder the DataFrame\n",
    "df_agg = df_agg[ordered_columns]"
   ]
  },
  {
   "cell_type": "code",
   "execution_count": 115,
   "id": "6afab723",
   "metadata": {},
   "outputs": [],
   "source": [
    "# For count & sum features\n",
    "cols_to_fill_0 = [\n",
    "    'transaction_count', 'total_transaction_amount', 'avg_transaction_amount',\n",
    "    'max_transaction_amount','fraud_count', 'fraud_rate', 'international_txn_rate',\n",
    "    'unique_devices_used','transaction_count_pre', 'total_amount_pre',\n",
    "    'avg_amount_pre','fraud_count_pre', 'fraud_rate_pre'\n",
    "]\n",
    "\n",
    "df_agg[cols_to_fill_0] = df_agg[cols_to_fill_0].fillna(0)"
   ]
  },
  {
   "cell_type": "code",
   "execution_count": 116,
   "id": "ff85d5d6",
   "metadata": {},
   "outputs": [
    {
     "name": "stdout",
     "output_type": "stream",
     "text": [
      "<class 'pandas.core.frame.DataFrame'>\n",
      "Int64Index: 50000 entries, 0 to 49999\n",
      "Data columns (total 39 columns):\n",
      " #   Column                        Non-Null Count  Dtype         \n",
      "---  ------                        --------------  -----         \n",
      " 0   application_id                50000 non-null  object        \n",
      " 1   customer_id                   50000 non-null  object        \n",
      " 2   application_date              50000 non-null  datetime64[ns]\n",
      " 3   application_year              50000 non-null  int64         \n",
      " 4   application_month             50000 non-null  int64         \n",
      " 5   application_day_of_week       50000 non-null  int64         \n",
      " 6   applicant_age                 50000 non-null  int64         \n",
      " 7   gender                        50000 non-null  object        \n",
      " 8   number_of_dependents          50000 non-null  int64         \n",
      " 9   residential_address           50000 non-null  object        \n",
      " 10  property_ownership_status     50000 non-null  object        \n",
      " 11  employment_status             50000 non-null  object        \n",
      " 12  monthly_income                50000 non-null  float64       \n",
      " 13  cibil_score                   50000 non-null  float64       \n",
      " 14  loan_type                     50000 non-null  object        \n",
      " 15  loan_amount_requested         50000 non-null  float64       \n",
      " 16  loan_tenure_months            50000 non-null  int64         \n",
      " 17  interest_rate_offered         50000 non-null  float64       \n",
      " 18  purpose_of_loan               50000 non-null  object        \n",
      " 19  loan_amount_to_income_ratio   50000 non-null  float64       \n",
      " 20  existing_emis_monthly         50000 non-null  float64       \n",
      " 21  existing_emi_to_income_ratio  50000 non-null  float64       \n",
      " 22  debt_to_income_ratio          50000 non-null  float64       \n",
      " 23  transaction_count             50000 non-null  float64       \n",
      " 24  total_transaction_amount      50000 non-null  float64       \n",
      " 25  avg_transaction_amount        50000 non-null  float64       \n",
      " 26  max_transaction_amount        50000 non-null  float64       \n",
      " 27  fraud_count                   50000 non-null  float64       \n",
      " 28  fraud_rate                    50000 non-null  float64       \n",
      " 29  international_txn_rate        50000 non-null  float64       \n",
      " 30  unique_devices_used           50000 non-null  float64       \n",
      " 31  transaction_count_pre         50000 non-null  float64       \n",
      " 32  total_amount_pre              50000 non-null  float64       \n",
      " 33  avg_amount_pre                50000 non-null  float64       \n",
      " 34  fraud_count_pre               50000 non-null  float64       \n",
      " 35  fraud_rate_pre                50000 non-null  float64       \n",
      " 36  loan_status                   50000 non-null  object        \n",
      " 37  fraud_flag                    50000 non-null  int64         \n",
      " 38  fraud_type                    50000 non-null  object        \n",
      "dtypes: datetime64[ns](1), float64(21), int64(7), object(10)\n",
      "memory usage: 15.3+ MB\n"
     ]
    }
   ],
   "source": [
    "df_agg.info()"
   ]
  },
  {
   "cell_type": "code",
   "execution_count": 117,
   "id": "d3de95dc",
   "metadata": {},
   "outputs": [
    {
     "name": "stdout",
     "output_type": "stream",
     "text": [
      "Old file 'loan_transactions_features.csv' removed.\n",
      "New file saved at: ../Data/Processed\\loan_transactions_features.csv\n",
      "✅ Feature engineering complete. Data saved to processed folder.\n"
     ]
    }
   ],
   "source": [
    "# Save aggregated dataframe to CSV file\n",
    "\n",
    "import os\n",
    "\n",
    "# Define folder and file path\n",
    "folder_path = '../Data/Processed'\n",
    "file_name = 'loan_transactions_features.csv'\n",
    "file_path = os.path.join(folder_path, file_name)\n",
    "\n",
    "# Create folder if it doesn't exist\n",
    "os.makedirs(folder_path, exist_ok=True)\n",
    "\n",
    "# Check if file exists and delete it\n",
    "if os.path.exists(file_path):\n",
    "    os.remove(file_path)\n",
    "    print(f\"Old file '{file_name}' removed.\")\n",
    "\n",
    "# Save the DataFrame to CSV\n",
    "df_agg.to_csv(file_path, index=False)\n",
    "print(f\"New file saved at: {file_path}\")\n",
    "print(\"✅ Feature engineering complete. Data saved to processed folder.\")"
   ]
  },
  {
   "cell_type": "code",
   "execution_count": null,
   "id": "4de743b7",
   "metadata": {},
   "outputs": [],
   "source": []
  }
 ],
 "metadata": {
  "kernelspec": {
   "display_name": "Python 3 (ipykernel)",
   "language": "python",
   "name": "python3"
  },
  "language_info": {
   "codemirror_mode": {
    "name": "ipython",
    "version": 3
   },
   "file_extension": ".py",
   "mimetype": "text/x-python",
   "name": "python",
   "nbconvert_exporter": "python",
   "pygments_lexer": "ipython3",
   "version": "3.9.7"
  }
 },
 "nbformat": 4,
 "nbformat_minor": 5
}
